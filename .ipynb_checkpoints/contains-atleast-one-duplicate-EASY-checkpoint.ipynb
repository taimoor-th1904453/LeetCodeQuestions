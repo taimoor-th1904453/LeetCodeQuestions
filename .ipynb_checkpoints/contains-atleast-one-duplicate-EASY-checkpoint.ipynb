{
 "cells": [
  {
   "cell_type": "markdown",
   "id": "af23b9a3",
   "metadata": {},
   "source": [
    "# Given an integer array nums, return true if any value appears at least twice in the array, and return false if every element is distinct."
   ]
  },
  {
   "cell_type": "code",
   "execution_count": 27,
   "id": "369bc2b8",
   "metadata": {},
   "outputs": [
    {
     "name": "stdout",
     "output_type": "stream",
     "text": [
      "There's a duplicate [2]\n",
      "True\n"
     ]
    }
   ],
   "source": [
    "from typing import List\n",
    "\n",
    "class Solution:\n",
    "    \n",
    "    def main(self):\n",
    "        contains_duplicate = self.containsDuplicate([1,2,2,3])\n",
    "        print(contains_duplicate)\n",
    "        \n",
    "    def containsDuplicate(self, nums: List[int]) -> bool:\n",
    "        aset = set()\n",
    "        for i in range(len(nums)):\n",
    "            if nums[i] in aset:\n",
    "                print(\"There's a duplicate\", [nums[i]] )\n",
    "                return True\n",
    "            else:\n",
    "                aset.add(nums[i])\n",
    "        return False\n",
    "    \n",
    "# Instantiate an object of the Solution class\n",
    "sol = Solution()\n",
    "\n",
    "# Call the main() method on the object\n",
    "sol.main()\n"
   ]
  },
  {
   "cell_type": "code",
   "execution_count": null,
   "id": "77d0710e",
   "metadata": {},
   "outputs": [],
   "source": []
  }
 ],
 "metadata": {
  "kernelspec": {
   "display_name": "Python 3 (ipykernel)",
   "language": "python",
   "name": "python3"
  },
  "language_info": {
   "codemirror_mode": {
    "name": "ipython",
    "version": 3
   },
   "file_extension": ".py",
   "mimetype": "text/x-python",
   "name": "python",
   "nbconvert_exporter": "python",
   "pygments_lexer": "ipython3",
   "version": "3.9.13"
  }
 },
 "nbformat": 4,
 "nbformat_minor": 5
}
